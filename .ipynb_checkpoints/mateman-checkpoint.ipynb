{
 "cells": [
  {
   "cell_type": "markdown",
   "metadata": {},
   "source": [
    "# Mateman\n",
    "The creation of a chess AI, step-by-step. \n",
    "\n",
    "### Sections\n",
    "- Introduction and Precursors\n",
    "- Board and Piece Representation\n",
    "- Game Logic and Gameplay\n",
    "- Evaluation\n",
    "- Search"
   ]
  },
  {
   "cell_type": "markdown",
   "metadata": {},
   "source": [
    "### Introduction and Precursors"
   ]
  },
  {
   "cell_type": "markdown",
   "metadata": {},
   "source": [
    "### Board and Piece Representation\n",
    "\n",
    "#### Chessboard\n",
    "There are various ways out there to represent a chessboard in memory. The simplest approach is to use an 8x8 grid, storing either objects or integers representing pieces. Near the other end of the spectrum of complexity lies the bitboard approach - a chessboard is represented as a set of 64-bit integers that serve as bitmasks, one for each type of piece per player. The advantage of this approach is its smaller memory footprint, and the fact that some move generation can be done using bitwise operations, which are very fast. <br>\n",
    "\n",
    "The disadvantage is that it is much more complex, and thus harder to implement, reason about, and debug. Although bitboards are popular amongst competitive chess engines (written in low-level languages to be highly-performant), we will shy away from them to make our journey accessible to a wider audience, and to keep the bitter taste of failure from my <i>once-scarred-by-bitboards</i> lips. Instead, mateman uses the 0x88 mailbox approach.\n",
    "\n",
    "#### 0x88 Mailbox\n",
    "A simple 8x8 grid would look like this: <br>\n",
    "<i>(<b>b</b> are black pieces, <b>w</b> are white, <b>#</b> are empty squares)</i>\n",
    "\n",
    "      a8           h8\n",
    "     \n",
    "      b b b b b b b b\n",
    "      b b b b b b b b\n",
    "      # # # # # # # #\n",
    "      # # # # # # # #\n",
    "      # # # # # # # #\n",
    "      # # # # # # # #\n",
    "      w w w w w w w w\n",
    "      w w w w w w w w\n",
    "      \n",
    "      a1           h1\n",
    "      \n",
    "Really, any <b>n</b> x <b>m</b> grid is just a <b>n</b> x <b>m</b> long array. So we can represent our grid with indices like this:\n",
    "\n",
    "\n",
    "    56   57   58   59   60   61   62   63 \n",
    "    48   49   50   51   52   53   54   55 \n",
    "    40   41   42   43   44   45   46   47 \n",
    "    32   33   34   35   36   37   38   39 \n",
    "    24   25   26   27   28   29   30   31 \n",
    "    16   17   18   19   20   21   22   23 \n",
    "     8    9   10   11   12   13   14   15 \n",
    "     0    1    2    3    4    5    6    7 \n",
    "\n",
    "      \n",
    "The x88 mailbox approach expands upon this, and actually uses an array of length 128. Why? This array has the wonderful property: The index of any invalid square, when bitwise ANDed with the number 0x88, is non-zero. So all the indices to the right of the divider are invalid - as you'd expect. Why is this useful? Well, when generating moves, this makes bounds-checking easier, and more efficient. However, it also has drawbacks - it takes up a bit more memory than just an 8x8, amongst other things. For more information visit \"https://chessprogramming.wikispaces.com/0x88\"\n",
    "      \n",
    "      112  113  114  115 116  117  118  119 | 120  121  122  123  124  125  126  127\n",
    "      96   97   98   99  100  101  102  103 | 104  105  106  107  108  109  110  111\n",
    "      80   81   82   83   84   85   86   87 |  88   89   90   91   92   93   94   95\n",
    "      64   65   66   67   68   69   70   71 |  72   73   74   75   76   77   78   79\n",
    "      48   49   50   51   52   53   54   55 |  56   57   58   59   60   61   62   63\n",
    "      32   33   34   35   36   37   38   39 |  40   41   42   43   44   45   46   47\n",
    "      16   17   18   19   20   21   22   23 |  24   25   26   27   28   29   30   31\n",
    "       0    1    2    3    4    5    6    7 |   8    9   10   11   12   13   14   15\n"
   ]
  },
  {
   "cell_type": "code",
   "execution_count": 1,
   "metadata": {
    "collapsed": false
   },
   "outputs": [],
   "source": [
    "start_board = 128*[0]"
   ]
  },
  {
   "cell_type": "markdown",
   "metadata": {},
   "source": [
    "#### Pieces\n",
    "Positive numbers for white, negative for black.\n",
    "\n",
    "    1 = Pawn\n",
    "    2 = Rook\n",
    "    3 = Knight\n",
    "    4 = Bishop\n",
    "    5 = Queen\n",
    "    6 = King"
   ]
  },
  {
   "cell_type": "code",
   "execution_count": 2,
   "metadata": {
    "collapsed": true
   },
   "outputs": [],
   "source": [
    "# White Pieces\n",
    "for index in range(16,24):                     # Pawns\n",
    "    start_board[index] = 1               \n",
    "start_board[0],start_board[7] = 2,2            # Rooks\n",
    "start_board[1],start_board[6] = 3,3            # Knights\n",
    "start_board[2],start_board[5] = 4,4            # Bishops\n",
    "start_board[3],start_board[4] = 5,6            # Queen, King\n",
    "\n",
    "# Black Pieces\n",
    "for index in range(96,104):                    # Pawns\n",
    "    start_board[index] = -1               \n",
    "start_board[112],start_board[119] = -2,-2      # Rooks\n",
    "start_board[113],start_board[118] = -3,-3      # Knights\n",
    "start_board[114],start_board[117] = -4,-4      # Bishops\n",
    "start_board[115],start_board[116] = -5,-6      # Queen, King"
   ]
  },
  {
   "cell_type": "markdown",
   "metadata": {},
   "source": [
    "#### Viewing our Chessboard\n",
    "While writing this thing we're gonna want to look at our chessboard pretty often, so let's make a function that will display it neatly for us. "
   ]
  },
  {
   "cell_type": "code",
   "execution_count": 17,
   "metadata": {
    "collapsed": false
   },
   "outputs": [],
   "source": [
    "def get_symbol(piece):\n",
    "    if (piece == 0):\n",
    "        return \".\"\n",
    "    else:\n",
    "        def symbol(x):\n",
    "            return {\n",
    "                1: \"P\",\n",
    "                2: \"R\",\n",
    "                3: \"N\",\n",
    "                4: \"B\",\n",
    "                5: \"Q\",\n",
    "                6: \"K\",\n",
    "            }[x]\n",
    "        if (piece < 0): # if piece is black, return lowercase\n",
    "            return chr(ord(symbol(abs(piece))) + 32)\n",
    "        else:\n",
    "            return symbol(piece)\n",
    "\n",
    "\n",
    "def print_board(board):\n",
    "    row = 7\n",
    "    while (row >= 0):\n",
    "        line = \"\"\n",
    "        for col in range(row*16,(row*16) + 8):\n",
    "            line += get_symbol(board[col]) + \" \"\n",
    "        print(line)\n",
    "        row -= 1"
   ]
  },
  {
   "cell_type": "code",
   "execution_count": 18,
   "metadata": {
    "collapsed": false
   },
   "outputs": [
    {
     "name": "stdout",
     "output_type": "stream",
     "text": [
      "r n b q k b n r \n",
      "p p p p p p p p \n",
      ". . . . . . . . \n",
      ". . . . . . . . \n",
      ". . . . . . . . \n",
      ". . . . . . . . \n",
      "P P P P P P P P \n",
      "R N B Q K B N R \n"
     ]
    }
   ],
   "source": [
    "print_board(start_board)"
   ]
  },
  {
   "cell_type": "markdown",
   "metadata": {},
   "source": [
    "### Game Logic and Gameplay"
   ]
  },
  {
   "cell_type": "code",
   "execution_count": 23,
   "metadata": {
    "collapsed": false
   },
   "outputs": [],
   "source": [
    "import chess\n",
    "import sys\n",
    "p = chess.Board()"
   ]
  },
  {
   "cell_type": "code",
   "execution_count": 27,
   "metadata": {
    "collapsed": false
   },
   "outputs": [],
   "source": [
    "boards = [chess.Board() for i in range(100)]"
   ]
  },
  {
   "cell_type": "code",
   "execution_count": 38,
   "metadata": {
    "collapsed": false
   },
   "outputs": [
    {
     "name": "stdout",
     "output_type": "stream",
     "text": [
      "g1h3\n",
      "g1f3\n",
      "b1c3\n",
      "b1a3\n",
      "h2h3\n",
      "g2g3\n",
      "f2f3\n",
      "e2e3\n",
      "d2d3\n",
      "c2c3\n",
      "b2b3\n",
      "a2a3\n",
      "h2h4\n",
      "g2g4\n",
      "f2f4\n",
      "e2e4\n",
      "d2d4\n",
      "c2c4\n",
      "b2b4\n",
      "a2a4\n"
     ]
    }
   ],
   "source": [
    "for move in p.generate_legal_moves():\n",
    "    print(move)"
   ]
  },
  {
   "cell_type": "code",
   "execution_count": null,
   "metadata": {
    "collapsed": true
   },
   "outputs": [],
   "source": []
  }
 ],
 "metadata": {
  "anaconda-cloud": {},
  "kernelspec": {
   "display_name": "Python [conda root]",
   "language": "python",
   "name": "conda-root-py"
  },
  "language_info": {
   "codemirror_mode": {
    "name": "ipython",
    "version": 2
   },
   "file_extension": ".py",
   "mimetype": "text/x-python",
   "name": "python",
   "nbconvert_exporter": "python",
   "pygments_lexer": "ipython2",
   "version": "2.7.12"
  }
 },
 "nbformat": 4,
 "nbformat_minor": 1
}
